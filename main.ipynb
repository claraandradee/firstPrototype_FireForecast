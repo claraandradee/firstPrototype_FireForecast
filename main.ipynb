{
 "cells": [
  {
   "cell_type": "markdown",
   "metadata": {},
   "source": [
    "TESTANDO REDE NEURAL FEED FORWARD COM NOSSOS DADOS\n",
    "Esse modelo está mais simplificado"
   ]
  },
  {
   "cell_type": "code",
   "execution_count": 6,
   "metadata": {},
   "outputs": [],
   "source": [
    "\n",
    "import numpy as np"
   ]
  },
  {
   "cell_type": "code",
   "execution_count": 7,
   "metadata": {},
   "outputs": [],
   "source": [
    "entradas = [\n",
    "    [6000,  55000,   140000,  150000],\n",
    "    [240000,  230000,  150000,  80257],\n",
    "    [50258,   28725,   40671,   16759],\n",
    "    [19004,   60000,   80000,   110000],\n",
    "    [85000,   105000,  70000,   85500],\n",
    "    [27000000, 892000,  2500000, 287000]\n",
    "]"
   ]
  },
  {
   "cell_type": "code",
   "execution_count": 8,
   "metadata": {},
   "outputs": [
    {
     "name": "stdout",
     "output_type": "stream",
     "text": [
      "[6000, 240000, 50258, 19004, 85000, 27000000, 950000]\n"
     ]
    }
   ],
   "source": [
    "# uma matriz transposta = coluna vira linha e linha vira coluna\n",
    "# Transposta da matriz\n",
    "transposta = []\n",
    "for i in range(len(entradas[0])):\n",
    "    nova_linha = []\n",
    "    for linha in entradas:\n",
    "        nova_linha.append(linha[i])\n",
    "    transposta.append(nova_linha)\n",
    "\n",
    "# Exibindo a matriz transposta\n",
    "for linha in transposta:\n",
    "    print(linha)"
   ]
  }
 ],
 "metadata": {
  "kernelspec": {
   "display_name": "Python 3",
   "language": "python",
   "name": "python3"
  },
  "language_info": {
   "codemirror_mode": {
    "name": "ipython",
    "version": 3
   },
   "file_extension": ".py",
   "mimetype": "text/x-python",
   "name": "python",
   "nbconvert_exporter": "python",
   "pygments_lexer": "ipython3",
   "version": "3.9.6"
  }
 },
 "nbformat": 4,
 "nbformat_minor": 2
}
